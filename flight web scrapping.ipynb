{
 "cells": [
  {
   "cell_type": "code",
   "execution_count": 1,
   "metadata": {
    "scrolled": false
   },
   "outputs": [],
   "source": [
    "# Importing Libraries\n",
    "import selenium\n",
    "import numpy as np\n",
    "import pandas as pd\n",
    "import time\n",
    "from bs4 import BeautifulSoup\n",
    "\n",
    "# Importing selenium webdriver \n",
    "from selenium import webdriver\n",
    "from selenium.webdriver.common.keys import Keys\n",
    "\n",
    "# Importing required Exceptions which needs to handled\n",
    "from selenium.common.exceptions import StaleElementReferenceException, NoSuchElementException\n",
    "\n",
    "#Importing requests\n",
    "import requests\n",
    "\n",
    "# importing regex\n",
    "import re"
   ]
  },
  {
   "cell_type": "code",
   "execution_count": 13,
   "metadata": {},
   "outputs": [],
   "source": [
    "from selenium.webdriver.chrome.options import Options\n",
    "option = Options()\n",
    "#option.add_argument(\"--disable-infobars\")\n",
    "option.add_argument(\"start-maximized\")\n",
    "#option.add_argument('headless')\n",
    "option.add_argument('--no-default-browser-check')\n",
    "#option.add_argument(\"--disable-extensions\")\n",
    "#option.add_experimental_option(\"prefs\", {\"profile.default_content_setting_values.notifications\": 2})\n",
    "option.add_argument(\"--incognito\")"
   ]
  },
  {
   "cell_type": "code",
   "execution_count": null,
   "metadata": {},
   "outputs": [],
   "source": [
    "from selenium.webdriver.chrome.options import Options\n",
    "option = Options()\n",
    "chromeOptions.addArguments(\"--headless\");\n",
    "chromeOptions.addArguments(\"--test-type\");\n",
    "chromeOptions.addArguments(\"--disable-gpu\");\n",
    "chromeOptions.addArguments(\"--no-first-run\");\n",
    "chromeOptions.addArguments(\"--no-default-browser-check\");\n",
    "chromeOptions.addArguments(\"--ignore-certificate-errors\");\n",
    "chromeOptions.addArguments(\"--start-maximized\");"
   ]
  },
  {
   "cell_type": "code",
   "execution_count": 5,
   "metadata": {
    "scrolled": false
   },
   "outputs": [],
   "source": [
    "driver = webdriver.Chrome(\"chromedriver.exe\")\n",
    "time.sleep(2)\n",
    "\n",
    "url = \"https://www.makemytrip.com/flights/?cmp=SEM|D|DF|G|Generic|DF_Generic_Exact|Tickets_Exact|RSA|Offer3|483490446455&s_kwcid=AL!1631!3!483490446455!e!!g!!book%20flight%20tickets&ef_id=Cj0KCQjwnoqLBhD4ARIsAL5JedI9ZITKWAVdKpbHgqzNsni93Kca8Az8cIkciHgLV9iP8w-vTtfgmwEaAo6SEALw_wcB:G:s&gclid=Cj0KCQjwnoqLBhD4ARIsAL5JedI9ZITKWAVdKpbHgqzNsni93Kca8Az8cIkciHgLV9iP8w-vTtfgmwEaAo6SEALw_wcB\"\n",
    "driver.get(url)\n",
    "\n",
    "time.sleep(1)"
   ]
  },
  {
   "cell_type": "code",
   "execution_count": 6,
   "metadata": {},
   "outputs": [],
   "source": [
    "loc_urls = []\n",
    "elem = driver.find_elements_by_xpath(\"//a[@class='blackText']\")\n",
    "for i in elem:\n",
    "    loc_urls.append(i.get_attribute('href'))"
   ]
  },
  {
   "cell_type": "code",
   "execution_count": 7,
   "metadata": {},
   "outputs": [
    {
     "data": {
      "text/plain": [
       "['https://www.makemytrip.com/flights/new_delhi-chennai-cheap-airtickets.html',\n",
       " 'https://www.makemytrip.com/flights/mumbai-chennai-cheap-airtickets.html',\n",
       " 'https://www.makemytrip.com/flights/coimbatore-chennai-cheap-airtickets.html',\n",
       " 'https://www.makemytrip.com/flights/madurai-chennai-cheap-airtickets.html',\n",
       " 'https://www.makemytrip.com/flights/new_delhi-goa-cheap-airtickets.html',\n",
       " 'https://www.makemytrip.com/flights/mumbai-goa-cheap-airtickets.html',\n",
       " 'https://www.makemytrip.com/flights/bangalore-goa-cheap-airtickets.html',\n",
       " 'https://www.makemytrip.com/flights/ahmedabad-goa-cheap-airtickets.html',\n",
       " 'https://www.makemytrip.com/flights/new_delhi-mumbai-cheap-airtickets.html',\n",
       " 'https://www.makemytrip.com/flights/bangalore-mumbai-cheap-airtickets.html',\n",
       " 'https://www.makemytrip.com/flights/chennai-mumbai-cheap-airtickets.html',\n",
       " 'https://www.makemytrip.com/flights/ahmedabad-mumbai-cheap-airtickets.html',\n",
       " 'https://www.makemytrip.com/flights/chennai-hyderabad-cheap-airtickets.html',\n",
       " 'https://www.makemytrip.com/flights/mumbai-hyderabad-cheap-airtickets.html',\n",
       " 'https://www.makemytrip.com/flights/bangalore-hyderabad-cheap-airtickets.html',\n",
       " 'https://www.makemytrip.com/flights/new_delhi-hyderabad-cheap-airtickets.html',\n",
       " 'https://www.makemytrip.com/flights/mumbai-new_delhi-cheap-airtickets.html',\n",
       " 'https://www.makemytrip.com/flights/pune-new_delhi-cheap-airtickets.html',\n",
       " 'https://www.makemytrip.com/flights/bangalore-new_delhi-cheap-airtickets.html',\n",
       " 'https://www.makemytrip.com/flights/chennai-new_delhi-cheap-airtickets.html',\n",
       " 'https://www.makemytrip.com/flights/new_delhi-pune-cheap-airtickets.html',\n",
       " 'https://www.makemytrip.com/flights/bangalore-pune-cheap-airtickets.html',\n",
       " 'https://www.makemytrip.com/flights/chennai-pune-cheap-airtickets.html',\n",
       " 'https://www.makemytrip.com/flights/ahmedabad-pune-cheap-airtickets.html',\n",
       " 'https://www.makemytrip.com/flights/new_delhi-kolkata-cheap-airtickets.html',\n",
       " 'https://www.makemytrip.com/flights/mumbai-kolkata-cheap-airtickets.html',\n",
       " 'https://www.makemytrip.com/flights/bangalore-kolkata-cheap-airtickets.html',\n",
       " 'https://www.makemytrip.com/flights/pune-kolkata-cheap-airtickets.html',\n",
       " 'https://www.makemytrip.com/flights/new_delhi-bangalore-cheap-airtickets.html',\n",
       " 'https://www.makemytrip.com/flights/pune-bangalore-cheap-airtickets.html',\n",
       " 'https://www.makemytrip.com/flights/mumbai-bangalore-cheap-airtickets.html',\n",
       " 'https://www.makemytrip.com/flights/kolkata-bangalore-cheap-airtickets.html',\n",
       " 'https://www.makemytrip.com/flights/mumbai-jaipur-cheap-airtickets.html',\n",
       " 'https://www.makemytrip.com/flights/new_delhi-jaipur-cheap-airtickets.html',\n",
       " 'https://www.makemytrip.com/flights/pune-jaipur-cheap-airtickets.html',\n",
       " 'https://www.makemytrip.com/flights/bangalore-jaipur-cheap-airtickets.html']"
      ]
     },
     "execution_count": 7,
     "metadata": {},
     "output_type": "execute_result"
    }
   ],
   "source": [
    "loc_urls"
   ]
  },
  {
   "cell_type": "code",
   "execution_count": 80,
   "metadata": {},
   "outputs": [],
   "source": [
    "origin = ['DEL','MAA','BOM','CJB','IXM','AMD','PNQ']\n",
    "dest = ['DEL','MAA','BOM','CJB','IXM','AMD','PNQ']\n",
    "day = ['12','13','14','15','16','17','18','19','20','21','22','23','24','25','26','27','28','29','30','31']\n",
    "date_year = '/10/2021'\n",
    "page_links = []\n",
    "for i in origin:\n",
    "    for j in dest:\n",
    "        for k in range(0, len(day)):\n",
    "            if (i != j):\n",
    "                link = 'https://www.makemytrip.com/flight/search?tripType=O&itinerary=' + i + '-' + j + '-' + day[k] + date_year +'&paxType=A-1_C-0_I-0&cabinClass=E&sTime=1633869206087&forwardFlowRequired=true&mpo=&ccde=IN&lang=eng'\n",
    "                page_links.append(link)\n",
    "                #driver.get(link)\n",
    "                #driver.execute_script(\"window.scrollTo(0, 100);\")\n",
    "            else:\n",
    "                break"
   ]
  },
  {
   "cell_type": "code",
   "execution_count": 115,
   "metadata": {},
   "outputs": [],
   "source": [
    "all_details = []\n",
    "for i in range(0,len(page_links)):\n",
    "    driver.get(page_links[i])\n",
    "    time.sleep(4)\n",
    "    driver.execute_script(\"window.scrollTo(0, 20000);\")\n",
    "    time.sleep(1)\n",
    "    try:\n",
    "        elem_details = driver.find_elements_by_class_name(\"listingCard\")\n",
    "        for j in elem_details:\n",
    "            if len(j.text) > 0:\n",
    "                all_details.append(j.text.split(\"\\n\"))\n",
    "        time.sleep(1)\n",
    "    except:\n",
    "        pass"
   ]
  },
  {
   "cell_type": "code",
   "execution_count": 116,
   "metadata": {},
   "outputs": [
    {
     "data": {
      "text/plain": [
       "9478"
      ]
     },
     "execution_count": 116,
     "metadata": {},
     "output_type": "execute_result"
    }
   ],
   "source": [
    "len(all_details)"
   ]
  },
  {
   "cell_type": "code",
   "execution_count": 124,
   "metadata": {},
   "outputs": [],
   "source": [
    "name = []\n",
    "dep_time = []\n",
    "dep_place = []\n",
    "travel_time = []\n",
    "stops = []\n",
    "arr_time = [] \n",
    "arr_place = []\n",
    "price = []"
   ]
  },
  {
   "cell_type": "code",
   "execution_count": 121,
   "metadata": {},
   "outputs": [],
   "source": [
    "all_details_org = all_details"
   ]
  },
  {
   "cell_type": "code",
   "execution_count": 123,
   "metadata": {},
   "outputs": [
    {
     "data": {
      "text/plain": [
       "9478"
      ]
     },
     "execution_count": 123,
     "metadata": {},
     "output_type": "execute_result"
    }
   ],
   "source": [
    "len(all_details_org)"
   ]
  },
  {
   "cell_type": "code",
   "execution_count": 125,
   "metadata": {},
   "outputs": [],
   "source": [
    "for i in all_details:\n",
    "    for j in range(0,len(i)):\n",
    "        if '₹' in i[j]:\n",
    "            name.append(i[j-7])\n",
    "            dep_time.append(i[j-6])\n",
    "            dep_place.append(i[j-5])\n",
    "            travel_time.append(i[j-4])\n",
    "            stops.append(i[j-3])\n",
    "            arr_time.append(i[j-2])\n",
    "            arr_place.append(i[j-1])\n",
    "            price.append(i[j])"
   ]
  },
  {
   "cell_type": "code",
   "execution_count": 128,
   "metadata": {},
   "outputs": [
    {
     "name": "stdout",
     "output_type": "stream",
     "text": [
      "9478\n",
      "9478\n",
      "9478\n",
      "9478\n",
      "9478\n",
      "9478\n",
      "9478\n",
      "9478\n"
     ]
    }
   ],
   "source": [
    "print(len(name))\n",
    "print(len(dep_time))\n",
    "print(len(dep_place))\n",
    "print(len(travel_time))\n",
    "print(len(stops))\n",
    "print(len(arr_time))\n",
    "print(len(arr_place))\n",
    "print(len(price))"
   ]
  },
  {
   "cell_type": "code",
   "execution_count": 129,
   "metadata": {},
   "outputs": [],
   "source": [
    "df_info = pd.DataFrame({'Airline':name,'Departure Time': dep_time, 'Departure Place': dep_place, \n",
    "                        'Travel Time': travel_time, 'Stops': stops, 'Arrival Time': arr_time, \n",
    "                        'Arrival Place': arr_place, 'Price': price})\n",
    "df_info.to_excel(\"Flight Details.xlsx\")"
   ]
  },
  {
   "cell_type": "code",
   "execution_count": 131,
   "metadata": {},
   "outputs": [
    {
     "data": {
      "text/html": [
       "<div>\n",
       "<style scoped>\n",
       "    .dataframe tbody tr th:only-of-type {\n",
       "        vertical-align: middle;\n",
       "    }\n",
       "\n",
       "    .dataframe tbody tr th {\n",
       "        vertical-align: top;\n",
       "    }\n",
       "\n",
       "    .dataframe thead th {\n",
       "        text-align: right;\n",
       "    }\n",
       "</style>\n",
       "<table border=\"1\" class=\"dataframe\">\n",
       "  <thead>\n",
       "    <tr style=\"text-align: right;\">\n",
       "      <th></th>\n",
       "      <th>Airline</th>\n",
       "      <th>Departure Time</th>\n",
       "      <th>Departure Place</th>\n",
       "      <th>Travel Time</th>\n",
       "      <th>Stops</th>\n",
       "      <th>Arrival Time</th>\n",
       "      <th>Arrival Place</th>\n",
       "      <th>Price</th>\n",
       "    </tr>\n",
       "  </thead>\n",
       "  <tbody>\n",
       "    <tr>\n",
       "      <th>0</th>\n",
       "      <td>AirAsia</td>\n",
       "      <td>08:00</td>\n",
       "      <td>New Delhi</td>\n",
       "      <td>09 h 25 m</td>\n",
       "      <td>1 stop via Bengaluru</td>\n",
       "      <td>17:25</td>\n",
       "      <td>Chennai</td>\n",
       "      <td>₹ 7,423</td>\n",
       "    </tr>\n",
       "    <tr>\n",
       "      <th>1</th>\n",
       "      <td>Air India</td>\n",
       "      <td>06:00</td>\n",
       "      <td>New Delhi</td>\n",
       "      <td>02 h 55 m</td>\n",
       "      <td>Non stop</td>\n",
       "      <td>08:55</td>\n",
       "      <td>Chennai</td>\n",
       "      <td>₹ 7,425</td>\n",
       "    </tr>\n",
       "    <tr>\n",
       "      <th>2</th>\n",
       "      <td>IndiGo</td>\n",
       "      <td>06:25</td>\n",
       "      <td>New Delhi</td>\n",
       "      <td>03 h</td>\n",
       "      <td>Non stop</td>\n",
       "      <td>09:25</td>\n",
       "      <td>Chennai</td>\n",
       "      <td>₹ 7,425</td>\n",
       "    </tr>\n",
       "    <tr>\n",
       "      <th>3</th>\n",
       "      <td>IndiGo</td>\n",
       "      <td>08:30</td>\n",
       "      <td>New Delhi</td>\n",
       "      <td>02 h 55 m</td>\n",
       "      <td>Non stop</td>\n",
       "      <td>11:25</td>\n",
       "      <td>Chennai</td>\n",
       "      <td>₹ 7,425</td>\n",
       "    </tr>\n",
       "    <tr>\n",
       "      <th>4</th>\n",
       "      <td>Air India</td>\n",
       "      <td>09:45</td>\n",
       "      <td>New Delhi</td>\n",
       "      <td>02 h 55 m</td>\n",
       "      <td>Non stop</td>\n",
       "      <td>12:40</td>\n",
       "      <td>Chennai</td>\n",
       "      <td>₹ 7,425</td>\n",
       "    </tr>\n",
       "  </tbody>\n",
       "</table>\n",
       "</div>"
      ],
      "text/plain": [
       "     Airline Departure Time Departure Place Travel Time                 Stops  \\\n",
       "0    AirAsia          08:00       New Delhi   09 h 25 m  1 stop via Bengaluru   \n",
       "1  Air India          06:00       New Delhi   02 h 55 m              Non stop   \n",
       "2     IndiGo          06:25       New Delhi        03 h              Non stop   \n",
       "3     IndiGo          08:30       New Delhi   02 h 55 m              Non stop   \n",
       "4  Air India          09:45       New Delhi   02 h 55 m              Non stop   \n",
       "\n",
       "  Arrival Time Arrival Place    Price  \n",
       "0        17:25       Chennai  ₹ 7,423  \n",
       "1        08:55       Chennai  ₹ 7,425  \n",
       "2        09:25       Chennai  ₹ 7,425  \n",
       "3        11:25       Chennai  ₹ 7,425  \n",
       "4        12:40       Chennai  ₹ 7,425  "
      ]
     },
     "execution_count": 131,
     "metadata": {},
     "output_type": "execute_result"
    }
   ],
   "source": [
    "df_info.head()"
   ]
  },
  {
   "cell_type": "code",
   "execution_count": 196,
   "metadata": {},
   "outputs": [],
   "source": [
    "df_info = pd.read_excel(\"Flight Details.xlsx\")"
   ]
  },
  {
   "cell_type": "code",
   "execution_count": 197,
   "metadata": {},
   "outputs": [],
   "source": [
    "#Elimitaing rows which are not relevant"
   ]
  },
  {
   "cell_type": "code",
   "execution_count": 198,
   "metadata": {},
   "outputs": [
    {
     "data": {
      "text/plain": [
       "9478"
      ]
     },
     "execution_count": 198,
     "metadata": {},
     "output_type": "execute_result"
    }
   ],
   "source": [
    "len(df_info)"
   ]
  },
  {
   "cell_type": "code",
   "execution_count": 199,
   "metadata": {},
   "outputs": [],
   "source": [
    "df = df_info"
   ]
  },
  {
   "cell_type": "code",
   "execution_count": 200,
   "metadata": {},
   "outputs": [],
   "source": [
    "to_be_dropped = []\n",
    "for i in range(0, len(df_info)):\n",
    "    if '+' in df_info[\"Arrival Place\"][i]:\n",
    "        to_be_dropped.append(i)"
   ]
  },
  {
   "cell_type": "code",
   "execution_count": 201,
   "metadata": {},
   "outputs": [
    {
     "data": {
      "text/plain": [
       "979"
      ]
     },
     "execution_count": 201,
     "metadata": {},
     "output_type": "execute_result"
    }
   ],
   "source": [
    "len(to_be_dropped)"
   ]
  },
  {
   "cell_type": "code",
   "execution_count": 202,
   "metadata": {},
   "outputs": [
    {
     "data": {
      "text/plain": [
       "9478"
      ]
     },
     "execution_count": 202,
     "metadata": {},
     "output_type": "execute_result"
    }
   ],
   "source": [
    "len(df_info)"
   ]
  },
  {
   "cell_type": "code",
   "execution_count": 203,
   "metadata": {},
   "outputs": [],
   "source": [
    "df_info.drop(index=to_be_dropped, axis=0, inplace=True)"
   ]
  },
  {
   "cell_type": "code",
   "execution_count": 204,
   "metadata": {},
   "outputs": [],
   "source": [
    "df_info.drop(columns=\"Unnamed: 0\", axis=1, inplace= True)"
   ]
  },
  {
   "cell_type": "code",
   "execution_count": 205,
   "metadata": {},
   "outputs": [],
   "source": [
    "df_info.reset_index(inplace=True, drop= True)"
   ]
  },
  {
   "cell_type": "code",
   "execution_count": 206,
   "metadata": {},
   "outputs": [],
   "source": [
    "for i in range(0, len(df_info)):\n",
    "    if df_info[\"Stops\"][i] == 'Non Stop' or df_info[\"Stops\"][i] == 'Non stop':\n",
    "            df_info[\"Stops\"][i] = 0\n",
    "    else:\n",
    "        df_info[\"Stops\"][i] = df_info[\"Stops\"][i][0]"
   ]
  },
  {
   "cell_type": "code",
   "execution_count": 209,
   "metadata": {},
   "outputs": [],
   "source": [
    "df_info[\"Stops\"] = df_info[\"Stops\"].astype('int')"
   ]
  },
  {
   "cell_type": "code",
   "execution_count": 215,
   "metadata": {},
   "outputs": [
    {
     "data": {
      "text/html": [
       "<div>\n",
       "<style scoped>\n",
       "    .dataframe tbody tr th:only-of-type {\n",
       "        vertical-align: middle;\n",
       "    }\n",
       "\n",
       "    .dataframe tbody tr th {\n",
       "        vertical-align: top;\n",
       "    }\n",
       "\n",
       "    .dataframe thead th {\n",
       "        text-align: right;\n",
       "    }\n",
       "</style>\n",
       "<table border=\"1\" class=\"dataframe\">\n",
       "  <thead>\n",
       "    <tr style=\"text-align: right;\">\n",
       "      <th></th>\n",
       "      <th>Airline</th>\n",
       "      <th>Departure Time</th>\n",
       "      <th>Departure Place</th>\n",
       "      <th>Travel Time</th>\n",
       "      <th>Stops</th>\n",
       "      <th>Arrival Time</th>\n",
       "      <th>Arrival Place</th>\n",
       "      <th>Price</th>\n",
       "    </tr>\n",
       "  </thead>\n",
       "  <tbody>\n",
       "    <tr>\n",
       "      <th>0</th>\n",
       "      <td>AirAsia</td>\n",
       "      <td>08:00</td>\n",
       "      <td>New Delhi</td>\n",
       "      <td>09 h 25 m</td>\n",
       "      <td>1</td>\n",
       "      <td>17:25</td>\n",
       "      <td>Chennai</td>\n",
       "      <td>7,423</td>\n",
       "    </tr>\n",
       "    <tr>\n",
       "      <th>1</th>\n",
       "      <td>Air India</td>\n",
       "      <td>06:00</td>\n",
       "      <td>New Delhi</td>\n",
       "      <td>02 h 55 m</td>\n",
       "      <td>0</td>\n",
       "      <td>08:55</td>\n",
       "      <td>Chennai</td>\n",
       "      <td>7,425</td>\n",
       "    </tr>\n",
       "    <tr>\n",
       "      <th>2</th>\n",
       "      <td>IndiGo</td>\n",
       "      <td>06:25</td>\n",
       "      <td>New Delhi</td>\n",
       "      <td>03 h</td>\n",
       "      <td>0</td>\n",
       "      <td>09:25</td>\n",
       "      <td>Chennai</td>\n",
       "      <td>7,425</td>\n",
       "    </tr>\n",
       "    <tr>\n",
       "      <th>3</th>\n",
       "      <td>IndiGo</td>\n",
       "      <td>08:30</td>\n",
       "      <td>New Delhi</td>\n",
       "      <td>02 h 55 m</td>\n",
       "      <td>0</td>\n",
       "      <td>11:25</td>\n",
       "      <td>Chennai</td>\n",
       "      <td>7,425</td>\n",
       "    </tr>\n",
       "    <tr>\n",
       "      <th>4</th>\n",
       "      <td>Air India</td>\n",
       "      <td>09:45</td>\n",
       "      <td>New Delhi</td>\n",
       "      <td>02 h 55 m</td>\n",
       "      <td>0</td>\n",
       "      <td>12:40</td>\n",
       "      <td>Chennai</td>\n",
       "      <td>7,425</td>\n",
       "    </tr>\n",
       "  </tbody>\n",
       "</table>\n",
       "</div>"
      ],
      "text/plain": [
       "     Airline Departure Time Departure Place Travel Time  Stops Arrival Time  \\\n",
       "0    AirAsia          08:00       New Delhi   09 h 25 m      1        17:25   \n",
       "1  Air India          06:00       New Delhi   02 h 55 m      0        08:55   \n",
       "2     IndiGo          06:25       New Delhi        03 h      0        09:25   \n",
       "3     IndiGo          08:30       New Delhi   02 h 55 m      0        11:25   \n",
       "4  Air India          09:45       New Delhi   02 h 55 m      0        12:40   \n",
       "\n",
       "  Arrival Place  Price  \n",
       "0       Chennai  7,423  \n",
       "1       Chennai  7,425  \n",
       "2       Chennai  7,425  \n",
       "3       Chennai  7,425  \n",
       "4       Chennai  7,425  "
      ]
     },
     "execution_count": 215,
     "metadata": {},
     "output_type": "execute_result"
    }
   ],
   "source": [
    "df_info.head()"
   ]
  },
  {
   "cell_type": "code",
   "execution_count": 214,
   "metadata": {},
   "outputs": [
    {
     "name": "stderr",
     "output_type": "stream",
     "text": [
      "<ipython-input-214-1410f548bc42>:2: SettingWithCopyWarning: \n",
      "A value is trying to be set on a copy of a slice from a DataFrame\n",
      "\n",
      "See the caveats in the documentation: https://pandas.pydata.org/pandas-docs/stable/user_guide/indexing.html#returning-a-view-versus-a-copy\n",
      "  df_info[\"Price\"][i] = df_info[\"Price\"][i][2:]\n"
     ]
    }
   ],
   "source": [
    "for i in range(0, len(df_info)):\n",
    "    df_info[\"Price\"][i] = df_info[\"Price\"][i][2:]"
   ]
  },
  {
   "cell_type": "code",
   "execution_count": 217,
   "metadata": {},
   "outputs": [
    {
     "name": "stderr",
     "output_type": "stream",
     "text": [
      "<ipython-input-217-33039e29d9d9>:2: SettingWithCopyWarning: \n",
      "A value is trying to be set on a copy of a slice from a DataFrame\n",
      "\n",
      "See the caveats in the documentation: https://pandas.pydata.org/pandas-docs/stable/user_guide/indexing.html#returning-a-view-versus-a-copy\n",
      "  df_info[\"Price\"][i] = df_info[\"Price\"][i].replace(\",\",\"\")\n"
     ]
    }
   ],
   "source": [
    "for i in range(0, len(df_info)):\n",
    "    df_info[\"Price\"][i] = df_info[\"Price\"][i].replace(\",\",\"\")"
   ]
  },
  {
   "cell_type": "code",
   "execution_count": 218,
   "metadata": {},
   "outputs": [],
   "source": [
    "df_info[\"Price\"] = df_info[\"Price\"].astype('int')"
   ]
  },
  {
   "cell_type": "code",
   "execution_count": 225,
   "metadata": {},
   "outputs": [
    {
     "data": {
      "text/html": [
       "<div>\n",
       "<style scoped>\n",
       "    .dataframe tbody tr th:only-of-type {\n",
       "        vertical-align: middle;\n",
       "    }\n",
       "\n",
       "    .dataframe tbody tr th {\n",
       "        vertical-align: top;\n",
       "    }\n",
       "\n",
       "    .dataframe thead th {\n",
       "        text-align: right;\n",
       "    }\n",
       "</style>\n",
       "<table border=\"1\" class=\"dataframe\">\n",
       "  <thead>\n",
       "    <tr style=\"text-align: right;\">\n",
       "      <th></th>\n",
       "      <th>Airline</th>\n",
       "      <th>Departure Time</th>\n",
       "      <th>Departure Place</th>\n",
       "      <th>Travel Time</th>\n",
       "      <th>Stops</th>\n",
       "      <th>Arrival Time</th>\n",
       "      <th>Arrival Place</th>\n",
       "      <th>Price</th>\n",
       "    </tr>\n",
       "  </thead>\n",
       "  <tbody>\n",
       "    <tr>\n",
       "      <th>0</th>\n",
       "      <td>AirAsia</td>\n",
       "      <td>0800</td>\n",
       "      <td>New Delhi</td>\n",
       "      <td>09 h 25 m</td>\n",
       "      <td>1</td>\n",
       "      <td>1725</td>\n",
       "      <td>Chennai</td>\n",
       "      <td>7423</td>\n",
       "    </tr>\n",
       "    <tr>\n",
       "      <th>1</th>\n",
       "      <td>Air India</td>\n",
       "      <td>0600</td>\n",
       "      <td>New Delhi</td>\n",
       "      <td>02 h 55 m</td>\n",
       "      <td>0</td>\n",
       "      <td>0855</td>\n",
       "      <td>Chennai</td>\n",
       "      <td>7425</td>\n",
       "    </tr>\n",
       "    <tr>\n",
       "      <th>2</th>\n",
       "      <td>IndiGo</td>\n",
       "      <td>0625</td>\n",
       "      <td>New Delhi</td>\n",
       "      <td>03 h</td>\n",
       "      <td>0</td>\n",
       "      <td>0925</td>\n",
       "      <td>Chennai</td>\n",
       "      <td>7425</td>\n",
       "    </tr>\n",
       "    <tr>\n",
       "      <th>3</th>\n",
       "      <td>IndiGo</td>\n",
       "      <td>0830</td>\n",
       "      <td>New Delhi</td>\n",
       "      <td>02 h 55 m</td>\n",
       "      <td>0</td>\n",
       "      <td>1125</td>\n",
       "      <td>Chennai</td>\n",
       "      <td>7425</td>\n",
       "    </tr>\n",
       "    <tr>\n",
       "      <th>4</th>\n",
       "      <td>Air India</td>\n",
       "      <td>0945</td>\n",
       "      <td>New Delhi</td>\n",
       "      <td>02 h 55 m</td>\n",
       "      <td>0</td>\n",
       "      <td>1240</td>\n",
       "      <td>Chennai</td>\n",
       "      <td>7425</td>\n",
       "    </tr>\n",
       "  </tbody>\n",
       "</table>\n",
       "</div>"
      ],
      "text/plain": [
       "     Airline Departure Time Departure Place Travel Time  Stops Arrival Time  \\\n",
       "0    AirAsia           0800       New Delhi   09 h 25 m      1         1725   \n",
       "1  Air India           0600       New Delhi   02 h 55 m      0         0855   \n",
       "2     IndiGo           0625       New Delhi        03 h      0         0925   \n",
       "3     IndiGo           0830       New Delhi   02 h 55 m      0         1125   \n",
       "4  Air India           0945       New Delhi   02 h 55 m      0         1240   \n",
       "\n",
       "  Arrival Place  Price  \n",
       "0       Chennai   7423  \n",
       "1       Chennai   7425  \n",
       "2       Chennai   7425  \n",
       "3       Chennai   7425  \n",
       "4       Chennai   7425  "
      ]
     },
     "execution_count": 225,
     "metadata": {},
     "output_type": "execute_result"
    }
   ],
   "source": [
    "df_info.head()"
   ]
  },
  {
   "cell_type": "code",
   "execution_count": 224,
   "metadata": {},
   "outputs": [
    {
     "name": "stderr",
     "output_type": "stream",
     "text": [
      "<ipython-input-224-31853bd108dd>:2: SettingWithCopyWarning: \n",
      "A value is trying to be set on a copy of a slice from a DataFrame\n",
      "\n",
      "See the caveats in the documentation: https://pandas.pydata.org/pandas-docs/stable/user_guide/indexing.html#returning-a-view-versus-a-copy\n",
      "  df_info[\"Departure Time\"][i] = df_info[\"Departure Time\"][i].replace(\":\",\"\")\n",
      "<ipython-input-224-31853bd108dd>:3: SettingWithCopyWarning: \n",
      "A value is trying to be set on a copy of a slice from a DataFrame\n",
      "\n",
      "See the caveats in the documentation: https://pandas.pydata.org/pandas-docs/stable/user_guide/indexing.html#returning-a-view-versus-a-copy\n",
      "  df_info[\"Arrival Time\"][i] = df_info[\"Arrival Time\"][i].replace(\":\",\"\")\n"
     ]
    }
   ],
   "source": [
    "for i in range(0, len(df_info)):\n",
    "    df_info[\"Departure Time\"][i] = df_info[\"Departure Time\"][i].replace(\":\",\"\")\n",
    "    df_info[\"Arrival Time\"][i] = df_info[\"Arrival Time\"][i].replace(\":\",\"\")"
   ]
  },
  {
   "cell_type": "code",
   "execution_count": 227,
   "metadata": {},
   "outputs": [],
   "source": [
    "df_info[\"Departure Time\"] = df_info[\"Departure Time\"].astype('int')\n",
    "df_info[\"Arrival Time\"] = df_info[\"Arrival Time\"].astype('int')"
   ]
  },
  {
   "cell_type": "code",
   "execution_count": 265,
   "metadata": {},
   "outputs": [],
   "source": [
    "hours = []\n",
    "mins = []\n",
    "for i in range(0, len(df_info)):\n",
    "    try:\n",
    "        if 'h' in df_info[\"Travel Time\"][i]:\n",
    "            hours.append(df_info[\"Travel Time\"][i].split(\" h\")[0])\n",
    "        else:\n",
    "            hours.append('0')                \n",
    "    except:\n",
    "        hours.append('0')\n",
    "    \n",
    "    try:\n",
    "        if 'h' in df_info[\"Travel Time\"][i]:\n",
    "            mins.append(df_info[\"Travel Time\"][i].split(\"h \")[1][:-2])\n",
    "        else:\n",
    "            mins.append(df_info[\"Travel Time\"][i].split(\" m\")[0])                        \n",
    "    except:\n",
    "        mins.append('0')"
   ]
  },
  {
   "cell_type": "code",
   "execution_count": 270,
   "metadata": {},
   "outputs": [
    {
     "data": {
      "text/plain": [
       "'04'"
      ]
     },
     "execution_count": 270,
     "metadata": {},
     "output_type": "execute_result"
    }
   ],
   "source": [
    "hours[2916]"
   ]
  },
  {
   "cell_type": "code",
   "execution_count": 271,
   "metadata": {},
   "outputs": [],
   "source": [
    "total_time_taken = []\n",
    "for i in range(0,len(hours)):\n",
    "    try:\n",
    "        total_mins = (int(hours[i])*60) + int(mins[i])\n",
    "        total_time_taken.append(total_mins)\n",
    "    except:\n",
    "        print(hours[i], mins[i], i)    "
   ]
  },
  {
   "cell_type": "code",
   "execution_count": 272,
   "metadata": {},
   "outputs": [
    {
     "data": {
      "text/plain": [
       "8499"
      ]
     },
     "execution_count": 272,
     "metadata": {},
     "output_type": "execute_result"
    }
   ],
   "source": [
    "len(total_time_taken)"
   ]
  },
  {
   "cell_type": "code",
   "execution_count": 274,
   "metadata": {},
   "outputs": [],
   "source": [
    "df_info[\"Travel Time\"] = total_time_taken"
   ]
  },
  {
   "cell_type": "code",
   "execution_count": 276,
   "metadata": {},
   "outputs": [
    {
     "name": "stdout",
     "output_type": "stream",
     "text": [
      "<class 'pandas.core.frame.DataFrame'>\n",
      "RangeIndex: 8499 entries, 0 to 8498\n",
      "Data columns (total 8 columns):\n",
      " #   Column           Non-Null Count  Dtype \n",
      "---  ------           --------------  ----- \n",
      " 0   Airline          8499 non-null   object\n",
      " 1   Departure Time   8499 non-null   int32 \n",
      " 2   Departure Place  8499 non-null   object\n",
      " 3   Travel Time      8499 non-null   int64 \n",
      " 4   Stops            8499 non-null   int32 \n",
      " 5   Arrival Time     8499 non-null   int32 \n",
      " 6   Arrival Place    8499 non-null   object\n",
      " 7   Price            8499 non-null   int32 \n",
      "dtypes: int32(4), int64(1), object(3)\n",
      "memory usage: 398.5+ KB\n"
     ]
    }
   ],
   "source": [
    "df_info.info()"
   ]
  },
  {
   "cell_type": "code",
   "execution_count": 277,
   "metadata": {},
   "outputs": [],
   "source": [
    "df_info.to_excel(\"Flight Details v2.xlsx\")"
   ]
  },
  {
   "cell_type": "code",
   "execution_count": 280,
   "metadata": {},
   "outputs": [
    {
     "name": "stderr",
     "output_type": "stream",
     "text": [
      "<ipython-input-280-4a9b91071580>:2: SettingWithCopyWarning: \n",
      "A value is trying to be set on a copy of a slice from a DataFrame\n",
      "\n",
      "See the caveats in the documentation: https://pandas.pydata.org/pandas-docs/stable/user_guide/indexing.html#returning-a-view-versus-a-copy\n",
      "  df_info[\"Airline\"][i] = df_info[\"Airline\"][i].split(\",\")[0]\n"
     ]
    }
   ],
   "source": [
    "for i in range(0, len(df_info)):\n",
    "    df_info[\"Airline\"][i] = df_info[\"Airline\"][i].split(\",\")[0]"
   ]
  },
  {
   "cell_type": "code",
   "execution_count": 281,
   "metadata": {},
   "outputs": [],
   "source": [
    "df_info.to_excel(\"Flight Details v3.xlsx\")"
   ]
  },
  {
   "cell_type": "markdown",
   "metadata": {},
   "source": [
    "---End of notebook---"
   ]
  }
 ],
 "metadata": {
  "kernelspec": {
   "display_name": "Python 3",
   "language": "python",
   "name": "python3"
  },
  "language_info": {
   "codemirror_mode": {
    "name": "ipython",
    "version": 3
   },
   "file_extension": ".py",
   "mimetype": "text/x-python",
   "name": "python",
   "nbconvert_exporter": "python",
   "pygments_lexer": "ipython3",
   "version": "3.8.8"
  }
 },
 "nbformat": 4,
 "nbformat_minor": 4
}
